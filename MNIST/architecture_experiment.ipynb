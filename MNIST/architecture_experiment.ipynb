{
 "cells": [
  {
   "cell_type": "markdown",
   "metadata": {
    "collapsed": true,
    "pycharm": {
     "name": "#%% md\n"
    }
   },
   "source": [
    "# Architecture experiments"
   ]
  },
  {
   "cell_type": "markdown",
   "metadata": {
    "pycharm": {
     "name": "#%% md\n"
    }
   },
   "source": [
    "### Imports"
   ]
  },
  {
   "cell_type": "code",
   "execution_count": 2,
   "metadata": {
    "ExecuteTime": {
     "end_time": "2021-03-20T10:59:50.110299Z",
     "start_time": "2021-03-20T10:59:46.651057Z"
    },
    "pycharm": {
     "name": "#%%\n"
    }
   },
   "outputs": [],
   "source": [
    "import os\n",
    "os.chdir(\"..\")\n",
    "from MLP import MLP\n",
    "from MLP.loss import MSE, CROSSENTROPY\n",
    "from MLP.activation import Activation\n",
    "from MLP.initialization import WeightInitialization\n",
    "from sklearn.model_selection import train_test_split\n",
    "from typing import List, Tuple\n",
    "import numpy as np\n",
    "import matplotlib.pyplot as plt\n",
    "import pandas as pd\n",
    "import pickle\n",
    "import cv2\n",
    "import random\n",
    "from tqdm import tqdm\n",
    "from functools import reduce"
   ]
  },
  {
   "cell_type": "markdown",
   "metadata": {},
   "source": [
    "### Data enhancement"
   ]
  },
  {
   "cell_type": "code",
   "execution_count": 10,
   "metadata": {
    "ExecuteTime": {
     "end_time": "2021-03-21T13:28:19.968904Z",
     "start_time": "2021-03-21T13:28:19.949820Z"
    }
   },
   "outputs": [],
   "source": [
    "# Rotate\n",
    "def rotate(pic):\n",
    "    scale = 1.0\n",
    "    rows, cols = pic.shape[:2]\n",
    "    img = []\n",
    "    angle = [-15,-10,-5, 5, 10, 15]\n",
    "    center = (cols / 2, rows / 2)   # Take the midpoint of the image\n",
    "    for a in angle:\n",
    "        M = cv2.getRotationMatrix2D(center, a, scale)  # Get the rotation matrix of the image around a certain point\n",
    "        pic = cv2.warpAffine(pic, M, (cols, rows), borderValue=(1, 1, 1))# cv2.warpAffine() The second parameter is the transformation matrix, and the third parameter is the size of the output image\n",
    "        img.append(pic)\n",
    "    return img\n",
    "\n",
    "# Noise\n",
    "def noise(pic):\n",
    "    for i in range(20):\n",
    "        pic[random.randint(0, pic.shape[0] - 1)][random.randint(0, pic.shape[1] - 1)] = 1 \n",
    "    return pic\n",
    "        # random.randint(a, b)\n",
    "        # Used to generate an integer in the specified range. Among them, parameter a is the lower limit, parameter b is the upper limit, the generated random number n: a <= n <= b\n",
    "        \n",
    "def gaussian(pic):\n",
    "    img = []\n",
    "    temp = cv2.GaussianBlur(pic, (9, 9), 1.5)  #Gaussian Blur\n",
    "    dst = cv2.blur(pic, (5, 5), (-1, -1))  #Mean Filter\n",
    "    # cv2.GaussianBlur (image, convolution kernel, standard deviation)\n",
    "    img.append(temp)\n",
    "    img.append(dst)\n",
    "    return img\n",
    "\n",
    "# Illumination\n",
    "def light(pic):\n",
    "    img = []\n",
    "    contrast = 1       #Contrast\n",
    "    brightness = 1    #brightness\n",
    "    pic_turn1 = cv2.addWeighted(pic,contrast,pic,0,brightness)\n",
    "    pic_turn2 = cv2.addWeighted(pic, 1.5, pic, 0, 0.5)\n",
    "    img.append(pic_turn1)\n",
    "    img.append(pic_turn2)\n",
    "    # cv2.addWeighted(object, contrast, object, contrast)\n",
    "    #cv2.addWeighted() realizes the change of image transparency and the superposition of images\n",
    "    return img\n",
    "\n",
    "def move(pic):\n",
    "    img = []\n",
    "    h = random.randint(1,6)\n",
    "    v = random.randint(1,6)\n",
    "    x, y = pic.shape\n",
    "    img.append(np.c_[np.zeros((x,h)), pic[:,:-h]])\n",
    "    img.append(np.r_[np.zeros((v,y)), pic[:-v,:]])\n",
    "    img.append(np.c_[pic[:,h:], np.zeros((x,h))])\n",
    "    img.append(np.r_[pic[v:,:], np.zeros((v,y))])\n",
    "    return img\n",
    "    \n"
   ]
  },
  {
   "cell_type": "code",
   "execution_count": 3,
   "metadata": {
    "ExecuteTime": {
     "end_time": "2021-03-19T18:19:12.609699Z",
     "start_time": "2021-03-19T18:17:30.426337Z"
    },
    "pycharm": {
     "name": "#%%\n"
    }
   },
   "outputs": [
    {
     "data": {
      "text/html": [
       "<div>\n",
       "<style scoped>\n",
       "    .dataframe tbody tr th:only-of-type {\n",
       "        vertical-align: middle;\n",
       "    }\n",
       "\n",
       "    .dataframe tbody tr th {\n",
       "        vertical-align: top;\n",
       "    }\n",
       "\n",
       "    .dataframe thead th {\n",
       "        text-align: right;\n",
       "    }\n",
       "</style>\n",
       "<table border=\"1\" class=\"dataframe\">\n",
       "  <thead>\n",
       "    <tr style=\"text-align: right;\">\n",
       "      <th></th>\n",
       "      <th>label</th>\n",
       "      <th>pixel0</th>\n",
       "      <th>pixel1</th>\n",
       "      <th>pixel2</th>\n",
       "      <th>pixel3</th>\n",
       "      <th>pixel4</th>\n",
       "      <th>pixel5</th>\n",
       "      <th>pixel6</th>\n",
       "      <th>pixel7</th>\n",
       "      <th>pixel8</th>\n",
       "      <th>...</th>\n",
       "      <th>pixel774</th>\n",
       "      <th>pixel775</th>\n",
       "      <th>pixel776</th>\n",
       "      <th>pixel777</th>\n",
       "      <th>pixel778</th>\n",
       "      <th>pixel779</th>\n",
       "      <th>pixel780</th>\n",
       "      <th>pixel781</th>\n",
       "      <th>pixel782</th>\n",
       "      <th>pixel783</th>\n",
       "    </tr>\n",
       "  </thead>\n",
       "  <tbody>\n",
       "    <tr>\n",
       "      <th>0</th>\n",
       "      <td>1</td>\n",
       "      <td>0</td>\n",
       "      <td>0</td>\n",
       "      <td>0</td>\n",
       "      <td>0</td>\n",
       "      <td>0</td>\n",
       "      <td>0</td>\n",
       "      <td>0</td>\n",
       "      <td>0</td>\n",
       "      <td>0</td>\n",
       "      <td>...</td>\n",
       "      <td>0</td>\n",
       "      <td>0</td>\n",
       "      <td>0</td>\n",
       "      <td>0</td>\n",
       "      <td>0</td>\n",
       "      <td>0</td>\n",
       "      <td>0</td>\n",
       "      <td>0</td>\n",
       "      <td>0</td>\n",
       "      <td>0</td>\n",
       "    </tr>\n",
       "    <tr>\n",
       "      <th>1</th>\n",
       "      <td>0</td>\n",
       "      <td>0</td>\n",
       "      <td>0</td>\n",
       "      <td>0</td>\n",
       "      <td>0</td>\n",
       "      <td>0</td>\n",
       "      <td>0</td>\n",
       "      <td>0</td>\n",
       "      <td>0</td>\n",
       "      <td>0</td>\n",
       "      <td>...</td>\n",
       "      <td>0</td>\n",
       "      <td>0</td>\n",
       "      <td>0</td>\n",
       "      <td>0</td>\n",
       "      <td>0</td>\n",
       "      <td>0</td>\n",
       "      <td>0</td>\n",
       "      <td>0</td>\n",
       "      <td>0</td>\n",
       "      <td>0</td>\n",
       "    </tr>\n",
       "    <tr>\n",
       "      <th>2</th>\n",
       "      <td>1</td>\n",
       "      <td>0</td>\n",
       "      <td>0</td>\n",
       "      <td>0</td>\n",
       "      <td>0</td>\n",
       "      <td>0</td>\n",
       "      <td>0</td>\n",
       "      <td>0</td>\n",
       "      <td>0</td>\n",
       "      <td>0</td>\n",
       "      <td>...</td>\n",
       "      <td>0</td>\n",
       "      <td>0</td>\n",
       "      <td>0</td>\n",
       "      <td>0</td>\n",
       "      <td>0</td>\n",
       "      <td>0</td>\n",
       "      <td>0</td>\n",
       "      <td>0</td>\n",
       "      <td>0</td>\n",
       "      <td>0</td>\n",
       "    </tr>\n",
       "    <tr>\n",
       "      <th>3</th>\n",
       "      <td>4</td>\n",
       "      <td>0</td>\n",
       "      <td>0</td>\n",
       "      <td>0</td>\n",
       "      <td>0</td>\n",
       "      <td>0</td>\n",
       "      <td>0</td>\n",
       "      <td>0</td>\n",
       "      <td>0</td>\n",
       "      <td>0</td>\n",
       "      <td>...</td>\n",
       "      <td>0</td>\n",
       "      <td>0</td>\n",
       "      <td>0</td>\n",
       "      <td>0</td>\n",
       "      <td>0</td>\n",
       "      <td>0</td>\n",
       "      <td>0</td>\n",
       "      <td>0</td>\n",
       "      <td>0</td>\n",
       "      <td>0</td>\n",
       "    </tr>\n",
       "    <tr>\n",
       "      <th>4</th>\n",
       "      <td>0</td>\n",
       "      <td>0</td>\n",
       "      <td>0</td>\n",
       "      <td>0</td>\n",
       "      <td>0</td>\n",
       "      <td>0</td>\n",
       "      <td>0</td>\n",
       "      <td>0</td>\n",
       "      <td>0</td>\n",
       "      <td>0</td>\n",
       "      <td>...</td>\n",
       "      <td>0</td>\n",
       "      <td>0</td>\n",
       "      <td>0</td>\n",
       "      <td>0</td>\n",
       "      <td>0</td>\n",
       "      <td>0</td>\n",
       "      <td>0</td>\n",
       "      <td>0</td>\n",
       "      <td>0</td>\n",
       "      <td>0</td>\n",
       "    </tr>\n",
       "  </tbody>\n",
       "</table>\n",
       "<p>5 rows × 785 columns</p>\n",
       "</div>"
      ],
      "text/plain": [
       "   label  pixel0  pixel1  pixel2  pixel3  pixel4  pixel5  pixel6  pixel7  \\\n",
       "0      1       0       0       0       0       0       0       0       0   \n",
       "1      0       0       0       0       0       0       0       0       0   \n",
       "2      1       0       0       0       0       0       0       0       0   \n",
       "3      4       0       0       0       0       0       0       0       0   \n",
       "4      0       0       0       0       0       0       0       0       0   \n",
       "\n",
       "   pixel8  ...  pixel774  pixel775  pixel776  pixel777  pixel778  pixel779  \\\n",
       "0       0  ...         0         0         0         0         0         0   \n",
       "1       0  ...         0         0         0         0         0         0   \n",
       "2       0  ...         0         0         0         0         0         0   \n",
       "3       0  ...         0         0         0         0         0         0   \n",
       "4       0  ...         0         0         0         0         0         0   \n",
       "\n",
       "   pixel780  pixel781  pixel782  pixel783  \n",
       "0         0         0         0         0  \n",
       "1         0         0         0         0  \n",
       "2         0         0         0         0  \n",
       "3         0         0         0         0  \n",
       "4         0         0         0         0  \n",
       "\n",
       "[5 rows x 785 columns]"
      ]
     },
     "execution_count": 3,
     "metadata": {},
     "output_type": "execute_result"
    }
   ],
   "source": [
    "test_size = 6000\n",
    "train_size = 1000\n",
    "weight_initialization = WeightInitialization.HE\n",
    "random_seeds = [1234, 4321, 2021]\n",
    "activation_function = Activation.TANH\n",
    "loss_function = CROSSENTROPY\n",
    "reg_L1 = 0\n",
    "reg_L2 = 0\n",
    "batch_size = 30\n",
    "epochs = 100\n",
    "learning_rate = 1e-2\n",
    "momentum = 0.9\n",
    "\n",
    "df: pd.DataFrame = pd.read_csv(\"MNIST/data/train.csv\")\n",
    "df.head()"
   ]
  },
  {
   "cell_type": "code",
   "execution_count": 4,
   "metadata": {
    "ExecuteTime": {
     "end_time": "2021-03-19T17:38:29.516897Z",
     "start_time": "2021-03-19T17:37:38.264578Z"
    }
   },
   "outputs": [
    {
     "name": "stderr",
     "output_type": "stream",
     "text": [
      "100%|██████████| 42000/42000 [00:43<00:00, 960.72it/s] \n"
     ]
    }
   ],
   "source": [
    "results = []\n",
    "for i, row in tqdm(list(df.iterrows())):\n",
    "    img = row.iloc[1:].values.reshape(28,28)/255\n",
    "    temp = []\n",
    "    temp += [img]\n",
    "    temp += [img*0.95 + 0.05, img*0.9 + 0.1]\n",
    "    temp += rotate(img)\n",
    "    temp += [noise(img) for _ in range(4)]\n",
    "    temp += gaussian(img)\n",
    "    temp += light(img)\n",
    "    temp += move(img)\n",
    "    temp = [np.r_[row.label, (255*pic.reshape(-1)).astype(np.int16,copy=False)] for pic in temp]\n",
    "    results += temp"
   ]
  },
  {
   "cell_type": "code",
   "execution_count": 5,
   "metadata": {
    "ExecuteTime": {
     "end_time": "2021-03-19T18:16:42.141141Z",
     "start_time": "2021-03-19T17:53:12.316272Z"
    }
   },
   "outputs": [
    {
     "name": "stderr",
     "output_type": "stream",
     "text": [
      "100%|██████████| 882000/882000 [18:21<00:00, 800.98it/s]\n"
     ]
    }
   ],
   "source": [
    "final_df = pd.DataFrame(columns = df.columns)\n",
    "final_df.to_csv(\"MNIST/data/enhanced_train.csv\", header=True, index=False)\n",
    "with open(\"MNIST/data/enhanced_train.csv\", \"a\") as f:\n",
    "    for result in tqdm(results):\n",
    "        print(np.array2string(result, max_line_width=100000, separator=\",\", floatmode=\"unique\")[1:-1], file=f)"
   ]
  },
  {
   "cell_type": "markdown",
   "metadata": {
    "heading_collapsed": true
   },
   "source": [
    "### Experiment functions definition"
   ]
  },
  {
   "cell_type": "code",
   "execution_count": 6,
   "metadata": {
    "ExecuteTime": {
     "end_time": "2021-03-19T18:19:12.655059Z",
     "start_time": "2021-03-19T18:19:12.615393Z"
    },
    "hidden": true,
    "pycharm": {
     "name": "#%%\n"
    }
   },
   "outputs": [],
   "source": [
    "def testdata_MLP_classification(data_m: np.ndarray,\n",
    "                                target_m: np.ndarray,\n",
    "                                test_size: int,\n",
    "                                train_size:int,\n",
    "                                hidden_layers: List[int],\n",
    "                                weight_initialization: WeightInitialization,\n",
    "                                random_seed: int,\n",
    "                                activation_functions: List[Activation],\n",
    "                                loss_function,\n",
    "                                reg_L1: float,\n",
    "                                reg_L2: float,\n",
    "                                batch_size: int,\n",
    "                                epochs: int,\n",
    "                                learning_rate: float,\n",
    "                                momentum: float,\n",
    "                                show_plots: bool) -> Tuple[np.ndarray, np.ndarray]:\n",
    "\n",
    "    data, test, y_train, y_test = train_test_split(data_m, target_m,\n",
    "                                                   test_size=test_size,\n",
    "                                                   train_size=train_size,\n",
    "                                                   random_state=random_seed)\n",
    "\n",
    "    data_max = np.max(data)\n",
    "\n",
    "    data = data / data_max\n",
    "    test = test / data_max\n",
    "\n",
    "    # one hot encoding\n",
    "    n_values = np.max(y_train) + 1\n",
    "    target = np.eye(n_values)[y_train]\n",
    "    test_target = np.eye(n_values)[y_test]\n",
    "\n",
    "    mlp = MLP(data,\n",
    "              target,\n",
    "              hidden_layers=hidden_layers,\n",
    "              weight_initialization=weight_initialization,\n",
    "              random_seed=random_seed,\n",
    "              activation_functions=activation_functions,\n",
    "              problem_type=MLP.ProblemType.CLASSIFICATION,\n",
    "              loss_function=loss_function)\n",
    "\n",
    "    mlp.fit(reg_L1=reg_L1,\n",
    "            reg_L2=reg_L2,\n",
    "            batch_size=batch_size,\n",
    "            epochs=epochs,\n",
    "            learning_rate=learning_rate,\n",
    "            momentum=momentum,\n",
    "            test_data=test,\n",
    "            test_target=test_target)\n",
    "\n",
    "    y_test_predict = mlp.predict(test)\n",
    "    accuracy = np.mean(y_test_predict == y_test)\n",
    "\n",
    "    print(f\"Classification accuracy: {np.mean(y_test_predict == y_test)}\\n\")\n",
    "\n",
    "    if show_plots:\n",
    "        mlp.visualize_architecture()\n",
    "        mlp.scatter_classification(y_test, test)\n",
    "        mlp.print_loss_by_epoch()\n",
    "        plt.show()\n",
    "\n",
    "    return mlp.loss_values, mlp.test_loss_values, mlp"
   ]
  },
  {
   "cell_type": "markdown",
   "metadata": {},
   "source": [
    "### Experiment data"
   ]
  },
  {
   "cell_type": "code",
   "execution_count": 27,
   "metadata": {
    "pycharm": {
     "name": "#%%\n"
    }
   },
   "outputs": [],
   "source": [
    "architectures = [\n",
    "    [32],\n",
    "    [32, 32],\n",
    "    [32, 32, 32],\n",
    "    [64],\n",
    "    [64, 64],\n",
    "    [64, 64, 64],\n",
    "    [128],\n",
    "    [128, 128, 128],\n",
    "    [128, 64],\n",
    "    [128, 64, 64],\n",
    "    [128, 64, 32]\n",
    "]"
   ]
  },
  {
   "cell_type": "markdown",
   "metadata": {},
   "source": [
    "### Experiments"
   ]
  },
  {
   "cell_type": "code",
   "execution_count": 52,
   "metadata": {
    "pycharm": {
     "name": "#%%\n"
    }
   },
   "outputs": [
    {
     "name": "stderr",
     "output_type": "stream",
     "text": [
      "100%|██████████| 100/100 [00:05<00:00, 17.02it/s]\n",
      "  0%|          | 0/100 [00:00<?, ?it/s]"
     ]
    },
    {
     "name": "stdout",
     "output_type": "stream",
     "text": [
      "Classification accuracy: 0.8748333333333334\n",
      "\n"
     ]
    },
    {
     "name": "stderr",
     "output_type": "stream",
     "text": [
      "100%|██████████| 100/100 [00:05<00:00, 18.00it/s]\n",
      "  0%|          | 0/100 [00:00<?, ?it/s]"
     ]
    },
    {
     "name": "stdout",
     "output_type": "stream",
     "text": [
      "Classification accuracy: 0.8788333333333334\n",
      "\n"
     ]
    },
    {
     "name": "stderr",
     "output_type": "stream",
     "text": [
      "100%|██████████| 100/100 [00:05<00:00, 17.77it/s]\n",
      "  0%|          | 0/100 [00:00<?, ?it/s]"
     ]
    },
    {
     "name": "stdout",
     "output_type": "stream",
     "text": [
      "Classification accuracy: 0.8888333333333334\n",
      "\n"
     ]
    },
    {
     "name": "stderr",
     "output_type": "stream",
     "text": [
      "100%|██████████| 100/100 [00:06<00:00, 15.93it/s]\n",
      "  0%|          | 0/100 [00:00<?, ?it/s]"
     ]
    },
    {
     "name": "stdout",
     "output_type": "stream",
     "text": [
      "Classification accuracy: 0.8795\n",
      "\n"
     ]
    },
    {
     "name": "stderr",
     "output_type": "stream",
     "text": [
      "100%|██████████| 100/100 [00:06<00:00, 16.13it/s]\n",
      "  0%|          | 0/100 [00:00<?, ?it/s]"
     ]
    },
    {
     "name": "stdout",
     "output_type": "stream",
     "text": [
      "Classification accuracy: 0.8756666666666667\n",
      "\n"
     ]
    },
    {
     "name": "stderr",
     "output_type": "stream",
     "text": [
      "100%|██████████| 100/100 [00:06<00:00, 16.07it/s]\n",
      "  0%|          | 0/100 [00:00<?, ?it/s]"
     ]
    },
    {
     "name": "stdout",
     "output_type": "stream",
     "text": [
      "Classification accuracy: 0.8846666666666667\n",
      "\n"
     ]
    },
    {
     "name": "stderr",
     "output_type": "stream",
     "text": [
      "100%|██████████| 100/100 [00:07<00:00, 14.10it/s]\n",
      "  0%|          | 0/100 [00:00<?, ?it/s]"
     ]
    },
    {
     "name": "stdout",
     "output_type": "stream",
     "text": [
      "Classification accuracy: 0.8753333333333333\n",
      "\n"
     ]
    },
    {
     "name": "stderr",
     "output_type": "stream",
     "text": [
      "100%|██████████| 100/100 [00:06<00:00, 14.35it/s]\n",
      "  0%|          | 0/100 [00:00<?, ?it/s]"
     ]
    },
    {
     "name": "stdout",
     "output_type": "stream",
     "text": [
      "Classification accuracy: 0.873\n",
      "\n"
     ]
    },
    {
     "name": "stderr",
     "output_type": "stream",
     "text": [
      "100%|██████████| 100/100 [00:06<00:00, 14.37it/s]\n",
      "  0%|          | 0/100 [00:00<?, ?it/s]"
     ]
    },
    {
     "name": "stdout",
     "output_type": "stream",
     "text": [
      "Classification accuracy: 0.8848333333333334\n",
      "\n"
     ]
    },
    {
     "name": "stderr",
     "output_type": "stream",
     "text": [
      "100%|██████████| 100/100 [00:07<00:00, 12.97it/s]\n",
      "  0%|          | 0/100 [00:00<?, ?it/s]"
     ]
    },
    {
     "name": "stdout",
     "output_type": "stream",
     "text": [
      "Classification accuracy: 0.8748333333333334\n",
      "\n"
     ]
    },
    {
     "name": "stderr",
     "output_type": "stream",
     "text": [
      "100%|██████████| 100/100 [00:07<00:00, 12.95it/s]\n",
      "  0%|          | 0/100 [00:00<?, ?it/s]"
     ]
    },
    {
     "name": "stdout",
     "output_type": "stream",
     "text": [
      "Classification accuracy: 0.8791666666666667\n",
      "\n"
     ]
    },
    {
     "name": "stderr",
     "output_type": "stream",
     "text": [
      "100%|██████████| 100/100 [00:07<00:00, 12.89it/s]\n",
      "  0%|          | 0/100 [00:00<?, ?it/s]"
     ]
    },
    {
     "name": "stdout",
     "output_type": "stream",
     "text": [
      "Classification accuracy: 0.8915\n",
      "\n"
     ]
    },
    {
     "name": "stderr",
     "output_type": "stream",
     "text": [
      "100%|██████████| 100/100 [00:09<00:00, 10.96it/s]\n",
      "  0%|          | 0/100 [00:00<?, ?it/s]"
     ]
    },
    {
     "name": "stdout",
     "output_type": "stream",
     "text": [
      "Classification accuracy: 0.8721666666666666\n",
      "\n"
     ]
    },
    {
     "name": "stderr",
     "output_type": "stream",
     "text": [
      "100%|██████████| 100/100 [00:09<00:00, 10.52it/s]\n",
      "  0%|          | 0/100 [00:00<?, ?it/s]"
     ]
    },
    {
     "name": "stdout",
     "output_type": "stream",
     "text": [
      "Classification accuracy: 0.879\n",
      "\n"
     ]
    },
    {
     "name": "stderr",
     "output_type": "stream",
     "text": [
      "100%|██████████| 100/100 [00:08<00:00, 11.46it/s]\n",
      "  0%|          | 0/100 [00:00<?, ?it/s]"
     ]
    },
    {
     "name": "stdout",
     "output_type": "stream",
     "text": [
      "Classification accuracy: 0.8881666666666667\n",
      "\n"
     ]
    },
    {
     "name": "stderr",
     "output_type": "stream",
     "text": [
      "100%|██████████| 100/100 [00:10<00:00,  9.87it/s]\n",
      "  0%|          | 0/100 [00:00<?, ?it/s]"
     ]
    },
    {
     "name": "stdout",
     "output_type": "stream",
     "text": [
      "Classification accuracy: 0.876\n",
      "\n"
     ]
    },
    {
     "name": "stderr",
     "output_type": "stream",
     "text": [
      "100%|██████████| 100/100 [00:12<00:00,  7.81it/s]\n",
      "  0%|          | 0/100 [00:00<?, ?it/s]"
     ]
    },
    {
     "name": "stdout",
     "output_type": "stream",
     "text": [
      "Classification accuracy: 0.8843333333333333\n",
      "\n"
     ]
    },
    {
     "name": "stderr",
     "output_type": "stream",
     "text": [
      "100%|██████████| 100/100 [00:11<00:00,  8.86it/s]\n",
      "  0%|          | 0/100 [00:00<?, ?it/s]"
     ]
    },
    {
     "name": "stdout",
     "output_type": "stream",
     "text": [
      "Classification accuracy: 0.8896666666666667\n",
      "\n"
     ]
    },
    {
     "name": "stderr",
     "output_type": "stream",
     "text": [
      "100%|██████████| 100/100 [00:12<00:00,  8.14it/s]\n",
      "  0%|          | 0/100 [00:00<?, ?it/s]"
     ]
    },
    {
     "name": "stdout",
     "output_type": "stream",
     "text": [
      "Classification accuracy: 0.8766666666666667\n",
      "\n"
     ]
    },
    {
     "name": "stderr",
     "output_type": "stream",
     "text": [
      "100%|██████████| 100/100 [00:12<00:00,  8.12it/s]\n",
      "  0%|          | 0/100 [00:00<?, ?it/s]"
     ]
    },
    {
     "name": "stdout",
     "output_type": "stream",
     "text": [
      "Classification accuracy: 0.8788333333333334\n",
      "\n"
     ]
    },
    {
     "name": "stderr",
     "output_type": "stream",
     "text": [
      "100%|██████████| 100/100 [00:12<00:00,  8.26it/s]\n",
      "  0%|          | 0/100 [00:00<?, ?it/s]"
     ]
    },
    {
     "name": "stdout",
     "output_type": "stream",
     "text": [
      "Classification accuracy: 0.8846666666666667\n",
      "\n"
     ]
    },
    {
     "name": "stderr",
     "output_type": "stream",
     "text": [
      "100%|██████████| 100/100 [00:18<00:00,  5.36it/s]\n",
      "  0%|          | 0/100 [00:00<?, ?it/s]"
     ]
    },
    {
     "name": "stdout",
     "output_type": "stream",
     "text": [
      "Classification accuracy: 0.8815\n",
      "\n"
     ]
    },
    {
     "name": "stderr",
     "output_type": "stream",
     "text": [
      "100%|██████████| 100/100 [00:19<00:00,  5.06it/s]\n",
      "  0%|          | 0/100 [00:00<?, ?it/s]"
     ]
    },
    {
     "name": "stdout",
     "output_type": "stream",
     "text": [
      "Classification accuracy: 0.8803333333333333\n",
      "\n"
     ]
    },
    {
     "name": "stderr",
     "output_type": "stream",
     "text": [
      "100%|██████████| 100/100 [00:20<00:00,  4.96it/s]\n",
      "  0%|          | 0/100 [00:00<?, ?it/s]"
     ]
    },
    {
     "name": "stdout",
     "output_type": "stream",
     "text": [
      "Classification accuracy: 0.8901666666666667\n",
      "\n"
     ]
    },
    {
     "name": "stderr",
     "output_type": "stream",
     "text": [
      "100%|██████████| 100/100 [00:14<00:00,  7.12it/s]\n",
      "  0%|          | 0/100 [00:00<?, ?it/s]"
     ]
    },
    {
     "name": "stdout",
     "output_type": "stream",
     "text": [
      "Classification accuracy: 0.8793333333333333\n",
      "\n"
     ]
    },
    {
     "name": "stderr",
     "output_type": "stream",
     "text": [
      "100%|██████████| 100/100 [00:13<00:00,  7.22it/s]\n",
      "  0%|          | 0/100 [00:00<?, ?it/s]"
     ]
    },
    {
     "name": "stdout",
     "output_type": "stream",
     "text": [
      "Classification accuracy: 0.8831666666666667\n",
      "\n"
     ]
    },
    {
     "name": "stderr",
     "output_type": "stream",
     "text": [
      "100%|██████████| 100/100 [00:13<00:00,  7.20it/s]\n",
      "  0%|          | 0/100 [00:00<?, ?it/s]"
     ]
    },
    {
     "name": "stdout",
     "output_type": "stream",
     "text": [
      "Classification accuracy: 0.8906666666666667\n",
      "\n"
     ]
    },
    {
     "name": "stderr",
     "output_type": "stream",
     "text": [
      "100%|██████████| 100/100 [00:15<00:00,  6.35it/s]\n",
      "  0%|          | 0/100 [00:00<?, ?it/s]"
     ]
    },
    {
     "name": "stdout",
     "output_type": "stream",
     "text": [
      "Classification accuracy: 0.8776666666666667\n",
      "\n"
     ]
    },
    {
     "name": "stderr",
     "output_type": "stream",
     "text": [
      "100%|██████████| 100/100 [00:15<00:00,  6.57it/s]\n",
      "  0%|          | 0/100 [00:00<?, ?it/s]"
     ]
    },
    {
     "name": "stdout",
     "output_type": "stream",
     "text": [
      "Classification accuracy: 0.883\n",
      "\n"
     ]
    },
    {
     "name": "stderr",
     "output_type": "stream",
     "text": [
      "100%|██████████| 100/100 [00:15<00:00,  6.63it/s]\n",
      "  0%|          | 0/100 [00:00<?, ?it/s]"
     ]
    },
    {
     "name": "stdout",
     "output_type": "stream",
     "text": [
      "Classification accuracy: 0.891\n",
      "\n"
     ]
    },
    {
     "name": "stderr",
     "output_type": "stream",
     "text": [
      "100%|██████████| 100/100 [00:14<00:00,  6.87it/s]\n",
      "  0%|          | 0/100 [00:00<?, ?it/s]"
     ]
    },
    {
     "name": "stdout",
     "output_type": "stream",
     "text": [
      "Classification accuracy: 0.8813333333333333\n",
      "\n"
     ]
    },
    {
     "name": "stderr",
     "output_type": "stream",
     "text": [
      "100%|██████████| 100/100 [00:16<00:00,  6.19it/s]\n",
      "  0%|          | 0/100 [00:00<?, ?it/s]"
     ]
    },
    {
     "name": "stdout",
     "output_type": "stream",
     "text": [
      "Classification accuracy: 0.8816666666666667\n",
      "\n"
     ]
    },
    {
     "name": "stderr",
     "output_type": "stream",
     "text": [
      "100%|██████████| 100/100 [00:15<00:00,  6.57it/s]\n"
     ]
    },
    {
     "name": "stdout",
     "output_type": "stream",
     "text": [
      "Classification accuracy: 0.892\n",
      "\n"
     ]
    }
   ],
   "source": [
    "for hidden_layers in architectures:\n",
    "    for random_seed in random_seeds:\n",
    "        loss_values, loss_test_values, model =\\\n",
    "            testdata_MLP_classification(data_m=df.loc[:, df.columns != \"label\"].to_numpy(),\n",
    "                                        target_m=df[\"label\"].to_numpy(),\n",
    "                                        test_size=test_size,\n",
    "                                        train_size=train_size,\n",
    "                                        hidden_layers=hidden_layers,\n",
    "                                        weight_initialization=weight_initialization,\n",
    "                                        random_seed=random_seed,\n",
    "                                        activation_functions=[activation_function]*len(hidden_layers) + [Activation.SOFTMAX],\n",
    "                                        loss_function=CROSSENTROPY,\n",
    "                                        reg_L1=0,\n",
    "                                        reg_L2=0,\n",
    "                                        batch_size=batch_size,\n",
    "                                        epochs=epochs,\n",
    "                                        learning_rate=learning_rate,\n",
    "                                        momentum=momentum,\n",
    "                                        show_plots=False)"
   ]
  },
  {
   "cell_type": "code",
   "execution_count": 44,
   "metadata": {
    "pycharm": {
     "name": "#%%\n"
    }
   },
   "outputs": [
    {
     "name": "stderr",
     "output_type": "stream",
     "text": [
      "100%|██████████| 1000/1000 [10:41<00:00,  1.56it/s]\n"
     ]
    },
    {
     "name": "stdout",
     "output_type": "stream",
     "text": [
      "Classification accuracy: 0.8997\n",
      "\n"
     ]
    }
   ],
   "source": [
    "a, b, c = testdata_MLP_classification(data_m=df.loc[:, df.columns != \"label\"].to_numpy(),\n",
    "                                      target_m=df[\"label\"].to_numpy(),\n",
    "                                      test_size=40000,\n",
    "                                      train_size=2000,\n",
    "                                      hidden_layers=[128, 64, 32],\n",
    "                                      weight_initialization=weight_initialization,\n",
    "                                      random_seed=random_seed,\n",
    "                                      activation_functions=[activation_function]*len(hidden_layers) + [Activation.SOFTMAX],\n",
    "                                      loss_function=CROSSENTROPY,\n",
    "                                      reg_L1=0,\n",
    "                                      reg_L2=0,\n",
    "                                      batch_size=batch_size,\n",
    "                                      epochs=1000,\n",
    "                                      learning_rate=1e-4,\n",
    "                                      momentum=momentum,\n",
    "                                      show_plots=False)"
   ]
  },
  {
   "cell_type": "code",
   "execution_count": 51,
   "metadata": {
    "ExecuteTime": {
     "end_time": "2021-03-19T21:54:11.915489Z",
     "start_time": "2021-03-19T21:11:33.549321Z"
    },
    "pycharm": {
     "name": "#%%\n"
    }
   },
   "outputs": [
    {
     "name": "stderr",
     "output_type": "stream",
     "text": [
      "100%|██████████| 20/20 [39:52<00:00, 119.63s/it]\n"
     ]
    },
    {
     "name": "stdout",
     "output_type": "stream",
     "text": [
      "Classification accuracy: 0.9253014705882353\n",
      "\n"
     ]
    }
   ],
   "source": [
    "df: pd.DataFrame = pd.read_csv(\"MNIST/data/enhanced_train.csv\")\n",
    "activation_function=Activation.RELU\n",
    "weight_initialization=WeightInitialization.HE\n",
    "batch_size=64\n",
    "momentum=0.9\n",
    "hidden_layers = [128, 64, 32]\n",
    "d, e, f = testdata_MLP_classification(data_m=df.loc[:, df.columns != \"label\"].to_numpy(),\n",
    "                                      target_m=df[\"label\"].to_numpy(),\n",
    "                                      test_size=680000,\n",
    "                                      train_size=34000,\n",
    "                                      hidden_layers=hidden_layers,\n",
    "                                      weight_initialization=weight_initialization,\n",
    "                                      random_seed=2137,\n",
    "                                      activation_functions=[activation_function]*len(hidden_layers) + [Activation.SOFTMAX],\n",
    "                                      loss_function=CROSSENTROPY,\n",
    "                                      reg_L1=0,\n",
    "                                      reg_L2=0,\n",
    "                                      batch_size=64,\n",
    "                                      epochs=20,\n",
    "                                      learning_rate=5e-3,\n",
    "                                      momentum=0.95,\n",
    "                                      show_plots=False)"
   ]
  },
  {
   "cell_type": "code",
   "execution_count": 50,
   "metadata": {
    "ExecuteTime": {
     "end_time": "2021-03-19T21:10:09.803876Z",
     "start_time": "2021-03-19T21:10:09.156949Z"
    },
    "pycharm": {
     "name": "#%%\n"
    }
   },
   "outputs": [
    {
     "data": {
      "image/png": "[encoded data removed]",
      "text/plain": [
       "<Figure size 720x432 with 1 Axes>"
      ]
     },
     "metadata": {
      "needs_background": "light"
     },
     "output_type": "display_data"
    }
   ],
   "source": [
    "f.print_loss_by_epoch()"
   ]
  },
  {
   "cell_type": "markdown",
   "metadata": {},
   "source": [
    "# Train for kaggle"
   ]
  },
  {
   "cell_type": "code",
   "execution_count": 7,
   "metadata": {
    "ExecuteTime": {
     "end_time": "2021-03-20T14:42:58.360856Z",
     "start_time": "2021-03-20T11:12:49.890317Z"
    }
   },
   "outputs": [
    {
     "name": "stderr",
     "output_type": "stream",
     "text": [
      "100%|██████████| 50/50 [2:54:14<00:00, 209.10s/it]  \n"
     ]
    }
   ],
   "source": [
    "# train for kaggle\n",
    "df: pd.DataFrame = pd.read_csv(\"MNIST/data/enhanced_train.csv\")\n",
    "data = df.loc[:, df.columns != \"label\"].to_numpy()\n",
    "data_max = np.max(data)\n",
    "data = data / data_max\n",
    "\n",
    "target = df[\"label\"].to_numpy()\n",
    "n_values = np.max(target) + 1\n",
    "target = np.eye(n_values)[target]\n",
    "\n",
    "activation_function=Activation.RELU\n",
    "hidden_layers = [128, 64, 32]\n",
    "activation_functions=[activation_function]*len(hidden_layers) + [Activation.SOFTMAX]\n",
    "weight_initialization=WeightInitialization.HE\n",
    "loss_function=CROSSENTROPY\n",
    "batch_size=64\n",
    "momentum=0.9\n",
    "learning_rate=1e-3\n",
    "\n",
    "\n",
    "mlp = MLP(data,\n",
    "          target,\n",
    "          hidden_layers=hidden_layers,\n",
    "          weight_initialization=weight_initialization,\n",
    "          random_seed=34,\n",
    "          activation_functions=activation_functions,\n",
    "          problem_type=MLP.ProblemType.CLASSIFICATION,\n",
    "          loss_function=loss_function)\n",
    "\n",
    "mlp.fit(reg_L1=0,\n",
    "        reg_L2=0,\n",
    "        batch_size=batch_size,\n",
    "        epochs=50,\n",
    "        learning_rate=learning_rate,\n",
    "        momentum=momentum)"
   ]
  },
  {
   "cell_type": "code",
   "execution_count": 8,
   "metadata": {
    "ExecuteTime": {
     "end_time": "2021-03-20T15:10:05.506609Z",
     "start_time": "2021-03-20T15:10:05.127553Z"
    },
    "scrolled": false
   },
   "outputs": [
    {
     "data": {
      "image/png": "[encoded data removed]",
      "text/plain": [
       "<Figure size 720x432 with 1 Axes>"
      ]
     },
     "metadata": {
      "needs_background": "light"
     },
     "output_type": "display_data"
    }
   ],
   "source": [
    "mlp.print_loss_by_epoch()"
   ]
  },
  {
   "cell_type": "code",
   "execution_count": 10,
   "metadata": {
    "ExecuteTime": {
     "end_time": "2021-03-20T15:14:03.680762Z",
     "start_time": "2021-03-20T15:14:02.011820Z"
    }
   },
   "outputs": [],
   "source": [
    "df_test: pd.DataFrame = pd.read_csv(\"MNIST/data/test.csv\")\n",
    "test = df_test.to_numpy()\n",
    "test = test / data_max"
   ]
  },
  {
   "cell_type": "code",
   "execution_count": 11,
   "metadata": {
    "ExecuteTime": {
     "end_time": "2021-03-20T15:14:24.004190Z",
     "start_time": "2021-03-20T15:14:20.996607Z"
    }
   },
   "outputs": [],
   "source": [
    "predicted_values = mlp.predict(test)\n",
    "df_test.loc[:,\"label\"] = predicted_values\n",
    "results = df_test.loc[:,[\"label\"]].reset_index()\n",
    "results.columns = [\"ImageId\", \"Label\"]\n",
    "results.loc[:,\"ImageId\"] += 1\n",
    "results.to_csv(\"MNIST/data/submission.csv\",header=True, index=False)\n"
   ]
  },
  {
   "cell_type": "markdown",
   "source": [
    "# Model saving"
   ],
   "metadata": {
    "collapsed": false
   }
  },
  {
   "cell_type": "code",
   "execution_count": 12,
   "outputs": [],
   "source": [
    "with open(\"results/kaggle-976.pickle\", \"wb\") as f:\n",
    "    pickle.dump({\"model\": mlp}, f)\n"
   ],
   "metadata": {
    "collapsed": false,
    "pycharm": {
     "name": "#%%\n"
    }
   }
  },
  {
   "cell_type": "code",
   "execution_count": 13,
   "outputs": [],
   "source": [
    "mlp.data = None\n",
    "mlp.target = None\n",
    "\n",
    "with open(\"results/kaggle-976-slim.pickle\", \"wb\") as f:\n",
    "    pickle.dump({\"model\": mlp}, f)"
   ],
   "metadata": {
    "collapsed": false,
    "pycharm": {
     "name": "#%%\n"
    }
   }
  },
  {
   "cell_type": "markdown",
   "source": [
    "# Enhanced data visualization"
   ],
   "metadata": {
    "collapsed": false
   }
  },
  {
   "cell_type": "code",
   "execution_count": 29,
   "outputs": [
    {
     "data": {
      "text/plain": "<Figure size 432x288 with 6 Axes>",
      "image/png": "[encoded data removed]"
     },
     "metadata": {
      "needs_background": "light"
     },
     "output_type": "display_data"
    }
   ],
   "source": [
    "row = pd.read_csv(\"MNIST/data/train.csv\").iloc[3][1:]\n",
    "image = np.array(row, dtype=\"uint8\").reshape((28, 28))/255\n",
    "\n",
    "plt.subplot(2, 3, 1)\n",
    "pixels = image\n",
    "plt.title(\"Original image\")\n",
    "plt.imshow(pixels, cmap='gray')\n",
    "\n",
    "plt.subplot(2, 3, 2)\n",
    "pixels = rotate(image)[2]\n",
    "plt.title(\"Rotation\")\n",
    "plt.imshow(pixels, cmap='gray')\n",
    "\n",
    "plt.subplot(2, 3, 3)\n",
    "pixels = noise(image.copy())\n",
    "plt.title(\"Noise\")\n",
    "plt.imshow(pixels, cmap='gray')\n",
    "\n",
    "plt.subplot(2, 3, 4)\n",
    "pixels = gaussian(image)[0]\n",
    "plt.title(\"Gaussian blur\")\n",
    "plt.imshow(pixels, cmap='gray')\n",
    "\n",
    "plt.subplot(2, 3, 5)\n",
    "pixels = light(image)[0]\n",
    "plt.title(\"Light\")\n",
    "plt.imshow(pixels, cmap='gray')\n",
    "\n",
    "plt.subplot(2, 3, 6)\n",
    "pixels = move(image)[1]\n",
    "plt.title(\"Shift\")\n",
    "plt.imshow(pixels, cmap='gray')\n",
    "\n",
    "plt.subplots_adjust(wspace=0.5, hspace=0.5)"
   ],
   "metadata": {
    "collapsed": false,
    "pycharm": {
     "name": "#%%\n"
    }
   }
  },
  {
   "cell_type": "markdown",
   "source": [
    "# Experiment without data enhancement"
   ],
   "metadata": {
    "collapsed": false
   }
  },
  {
   "cell_type": "code",
   "execution_count": 3,
   "outputs": [
    {
     "name": "stderr",
     "output_type": "stream",
     "text": [
      "100%|██████████| 200/200 [28:31<00:00,  8.56s/it]\n"
     ]
    }
   ],
   "source": [
    "df: pd.DataFrame = pd.read_csv(\"MNIST/data/train.csv\")\n",
    "data = df.loc[:, df.columns != \"label\"].to_numpy()\n",
    "data_max = np.max(data)\n",
    "data = data / data_max\n",
    "\n",
    "target = df[\"label\"].to_numpy()\n",
    "n_values = np.max(target) + 1\n",
    "target = np.eye(n_values)[target]\n",
    "\n",
    "activation_function=Activation.RELU\n",
    "hidden_layers = [128, 64, 32]\n",
    "activation_functions=[activation_function]*len(hidden_layers) + [Activation.SOFTMAX]\n",
    "weight_initialization=WeightInitialization.HE\n",
    "loss_function=CROSSENTROPY\n",
    "batch_size=64\n",
    "momentum=0.9\n",
    "learning_rate=1e-3\n",
    "\n",
    "\n",
    "mlp = MLP(data,\n",
    "          target,\n",
    "          hidden_layers=hidden_layers,\n",
    "          weight_initialization=weight_initialization,\n",
    "          random_seed=34,\n",
    "          activation_functions=activation_functions,\n",
    "          problem_type=MLP.ProblemType.CLASSIFICATION,\n",
    "          loss_function=loss_function)\n",
    "\n",
    "mlp.fit(reg_L1=0,\n",
    "        reg_L2=0,\n",
    "        batch_size=batch_size,\n",
    "        epochs=200,\n",
    "        learning_rate=learning_rate,\n",
    "        momentum=momentum)\n",
    "\n",
    "mlp.data = None\n",
    "mlp.target = None\n",
    "with open(\"results/kaggle-comparison.pickle\", \"wb\") as f:\n",
    "    pickle.dump({\"model\": mlp}, f)"
   ],
   "metadata": {
    "collapsed": false,
    "pycharm": {
     "name": "#%%\n"
    }
   }
  },
  {
   "cell_type": "code",
   "execution_count": 4,
   "outputs": [],
   "source": [
    "df_test: pd.DataFrame = pd.read_csv(\"MNIST/data/test.csv\")\n",
    "test = df_test.to_numpy()\n",
    "test = test / data_max\n",
    "\n",
    "predicted_values = mlp.predict(test)\n",
    "df_test.loc[:,\"label\"] = predicted_values\n",
    "results = df_test.loc[:,[\"label\"]].reset_index()\n",
    "results.columns = [\"ImageId\", \"Label\"]\n",
    "results.loc[:,\"ImageId\"] += 1\n",
    "results.to_csv(\"MNIST/data/submission-comparison.csv\",header=True, index=False)"
   ],
   "metadata": {
    "collapsed": false,
    "pycharm": {
     "name": "#%%\n"
    }
   }
  },
  {
   "cell_type": "code",
   "execution_count": 5,
   "outputs": [
    {
     "data": {
      "text/plain": "<Figure size 720x432 with 1 Axes>",
      "image/png": "[encoded data removed]"
     },
     "metadata": {
      "needs_background": "light"
     },
     "output_type": "display_data"
    }
   ],
   "source": [
    "mlp.print_loss_by_epoch()"
   ],
   "metadata": {
    "collapsed": false,
    "pycharm": {
     "name": "#%%\n"
    }
   }
  }
 ],
 "metadata": {
  "kernelspec": {
   "display_name": "Python 3",
   "language": "python",
   "name": "python3"
  },
  "language_info": {
   "codemirror_mode": {
    "name": "ipython",
    "version": 3
   },
   "file_extension": ".py",
   "mimetype": "text/x-python",
   "name": "python",
   "nbconvert_exporter": "python",
   "pygments_lexer": "ipython3",
   "version": "3.9.2"
  }
 },
 "nbformat": 4,
 "nbformat_minor": 1
}